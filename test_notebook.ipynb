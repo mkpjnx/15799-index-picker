{
 "cells": [
  {
   "cell_type": "code",
   "execution_count": 1,
   "metadata": {},
   "outputs": [],
   "source": [
    "from typing import List\n",
    "\n",
    "import pandas as pd\n",
    "import numpy as np\n",
    "import pglast\n",
    "\n",
    "import logparsing\n",
    "import action_selection\n",
    "import action_generation.index_actions as index_actions\n",
    "import db_connector"
   ]
  },
  {
   "cell_type": "code",
   "execution_count": 2,
   "metadata": {},
   "outputs": [
    {
     "data": {
      "text/plain": [
       "['DROP INDEX IF EXISTS idx_jungle_intfield3_floatfield7;',\n",
       " 'DROP INDEX IF EXISTS idx_jungle_intfield7;',\n",
       " 'DROP INDEX IF EXISTS idx_jungle_uuidfield;']"
      ]
     },
     "execution_count": 2,
     "metadata": {},
     "output_type": "execute_result"
    }
   ],
   "source": [
    "[str(a) for a in index_actions.DropIndexGenerator(db_connector.get_existing_indexes())]"
   ]
  },
  {
   "cell_type": "code",
   "execution_count": 3,
   "metadata": {},
   "outputs": [],
   "source": [
    "workload_csv = \"artifacts/indexjungle/workload.csv\"\n",
    "timeout = 100"
   ]
  },
  {
   "cell_type": "code",
   "execution_count": 4,
   "metadata": {},
   "outputs": [],
   "source": [
    "col_mappings = db_connector.get_col_mappings()\n",
    "parsed = logparsing.parse_csv_log(workload_csv)\n",
    "filtered = logparsing.aggregate_templates(parsed, col_mappings, .9999)\n",
    "colrefs = action_selection.get_workload_colrefs(filtered)"
   ]
  },
  {
   "cell_type": "code",
   "execution_count": 4,
   "metadata": {},
   "outputs": [],
   "source": [
    "filtered['percentage'] = filtered['count']/filtered['count'].sum()\n",
    "pd.set_option('display.width', None)\n",
    "pd.set_option('display.max_colwidth', None)\n",
    "filtered.to_csv(\"test.csv\")"
   ]
  },
  {
   "cell_type": "code",
   "execution_count": 5,
   "metadata": {},
   "outputs": [
    {
     "name": "stdout",
     "output_type": "stream",
     "text": [
      "Estimating pre-hypothetical costs\n",
      "cost estimate iter: 0\n",
      "cost estimate iter: 1\n",
      "cost estimate iter: 2\n",
      "cost estimate iter: 3\n",
      "cost estimate iter: 4\n",
      "Creating hypoindex CREATE INDEX IF NOT EXISTS idx_jungle_intfield6 ON jungle (int_field6);\n",
      "Creating hypoindex CREATE INDEX IF NOT EXISTS idx_jungle_intfield2 ON jungle (int_field2);\n",
      "Creating hypoindex CREATE INDEX IF NOT EXISTS idx_jungle_intfield8 ON jungle (int_field8);\n",
      "Creating hypoindex CREATE INDEX IF NOT EXISTS idx_jungle_floatfield5 ON jungle (float_field5);\n",
      "Creating hypoindex CREATE INDEX IF NOT EXISTS idx_jungle_floatfield8 ON jungle (float_field8);\n",
      "Creating hypoindex CREATE INDEX IF NOT EXISTS idx_jungle_floatfield2 ON jungle (float_field2);\n",
      "Creating hypoindex CREATE INDEX IF NOT EXISTS idx_jungle_floatfield1 ON jungle (float_field1);\n",
      "Creating hypoindex CREATE INDEX IF NOT EXISTS idx_jungle_floatfield0 ON jungle (float_field0);\n",
      "Creating hypoindex CREATE INDEX IF NOT EXISTS idx_jungle_floatfield4 ON jungle (float_field4);\n",
      "Creating hypoindex CREATE INDEX IF NOT EXISTS idx_jungle_floatfield9 ON jungle (float_field9);\n",
      "Creating hypoindex CREATE INDEX IF NOT EXISTS idx_jungle_floatfield3 ON jungle (float_field3);\n",
      "Creating hypoindex CREATE INDEX IF NOT EXISTS idx_jungle_floatfield7 ON jungle (float_field7);\n",
      "Creating hypoindex CREATE INDEX IF NOT EXISTS idx_jungle_floatfield6 ON jungle (float_field6);\n",
      "Creating hypoindex CREATE INDEX IF NOT EXISTS idx_jungle_floatfield5_intfield2 ON jungle (float_field5, int_field2);\n",
      "Creating hypoindex CREATE INDEX IF NOT EXISTS idx_jungle_intfield2_floatfield5 ON jungle (int_field2, float_field5);\n",
      "Creating hypoindex CREATE INDEX IF NOT EXISTS idx_jungle_floatfield8_intfield8 ON jungle (float_field8, int_field8);\n",
      "Creating hypoindex CREATE INDEX IF NOT EXISTS idx_jungle_intfield8_floatfield8 ON jungle (int_field8, float_field8);\n",
      "Creating hypoindex CREATE INDEX IF NOT EXISTS idx_jungle_floatfield2_intfield8 ON jungle (float_field2, int_field8);\n",
      "Creating hypoindex CREATE INDEX IF NOT EXISTS idx_jungle_intfield8_floatfield2 ON jungle (int_field8, float_field2);\n",
      "Creating hypoindex CREATE INDEX IF NOT EXISTS idx_jungle_intfield6_floatfield8 ON jungle (int_field6, float_field8);\n",
      "Creating hypoindex CREATE INDEX IF NOT EXISTS idx_jungle_floatfield8_intfield6 ON jungle (float_field8, int_field6);\n",
      "Creating hypoindex CREATE INDEX IF NOT EXISTS idx_jungle_floatfield1_intfield2 ON jungle (float_field1, int_field2);\n",
      "Creating hypoindex CREATE INDEX IF NOT EXISTS idx_jungle_intfield2_floatfield1 ON jungle (int_field2, float_field1);\n",
      "Creating hypoindex CREATE INDEX IF NOT EXISTS idx_jungle_floatfield2_intfield2 ON jungle (float_field2, int_field2);\n",
      "Creating hypoindex CREATE INDEX IF NOT EXISTS idx_jungle_intfield2_floatfield2 ON jungle (int_field2, float_field2);\n",
      "Creating hypoindex CREATE INDEX IF NOT EXISTS idx_jungle_floatfield1_intfield6 ON jungle (float_field1, int_field6);\n",
      "Creating hypoindex CREATE INDEX IF NOT EXISTS idx_jungle_intfield6_floatfield1 ON jungle (int_field6, float_field1);\n",
      "Creating hypoindex CREATE INDEX IF NOT EXISTS idx_jungle_floatfield8_intfield2 ON jungle (float_field8, int_field2);\n",
      "Creating hypoindex CREATE INDEX IF NOT EXISTS idx_jungle_intfield2_floatfield8 ON jungle (int_field2, float_field8);\n",
      "Creating hypoindex CREATE INDEX IF NOT EXISTS idx_jungle_floatfield0_intfield8 ON jungle (float_field0, int_field8);\n",
      "Creating hypoindex CREATE INDEX IF NOT EXISTS idx_jungle_intfield8_floatfield0 ON jungle (int_field8, float_field0);\n",
      "Creating hypoindex CREATE INDEX IF NOT EXISTS idx_jungle_floatfield2_intfield6 ON jungle (float_field2, int_field6);\n",
      "Creating hypoindex CREATE INDEX IF NOT EXISTS idx_jungle_intfield6_floatfield2 ON jungle (int_field6, float_field2);\n",
      "Creating hypoindex CREATE INDEX IF NOT EXISTS idx_jungle_intfield6_floatfield4 ON jungle (int_field6, float_field4);\n",
      "Creating hypoindex CREATE INDEX IF NOT EXISTS idx_jungle_floatfield4_intfield6 ON jungle (float_field4, int_field6);\n",
      "Creating hypoindex CREATE INDEX IF NOT EXISTS idx_jungle_intfield8_floatfield4 ON jungle (int_field8, float_field4);\n",
      "Creating hypoindex CREATE INDEX IF NOT EXISTS idx_jungle_floatfield4_intfield8 ON jungle (float_field4, int_field8);\n",
      "Creating hypoindex CREATE INDEX IF NOT EXISTS idx_jungle_floatfield9_intfield8 ON jungle (float_field9, int_field8);\n",
      "Creating hypoindex CREATE INDEX IF NOT EXISTS idx_jungle_intfield8_floatfield9 ON jungle (int_field8, float_field9);\n",
      "Creating hypoindex CREATE INDEX IF NOT EXISTS idx_jungle_intfield2_floatfield4 ON jungle (int_field2, float_field4);\n",
      "Creating hypoindex CREATE INDEX IF NOT EXISTS idx_jungle_floatfield4_intfield2 ON jungle (float_field4, int_field2);\n",
      "Creating hypoindex CREATE INDEX IF NOT EXISTS idx_jungle_floatfield3_intfield2 ON jungle (float_field3, int_field2);\n",
      "Creating hypoindex CREATE INDEX IF NOT EXISTS idx_jungle_intfield2_floatfield3 ON jungle (int_field2, float_field3);\n",
      "Creating hypoindex CREATE INDEX IF NOT EXISTS idx_jungle_floatfield0_intfield2 ON jungle (float_field0, int_field2);\n",
      "Creating hypoindex CREATE INDEX IF NOT EXISTS idx_jungle_intfield2_floatfield0 ON jungle (int_field2, float_field0);\n",
      "Creating hypoindex CREATE INDEX IF NOT EXISTS idx_jungle_floatfield7_intfield8 ON jungle (float_field7, int_field8);\n",
      "Creating hypoindex CREATE INDEX IF NOT EXISTS idx_jungle_intfield8_floatfield7 ON jungle (int_field8, float_field7);\n",
      "Creating hypoindex CREATE INDEX IF NOT EXISTS idx_jungle_floatfield6_intfield2 ON jungle (float_field6, int_field2);\n",
      "Creating hypoindex CREATE INDEX IF NOT EXISTS idx_jungle_intfield2_floatfield6 ON jungle (int_field2, float_field6);\n",
      "Creating hypoindex CREATE INDEX IF NOT EXISTS idx_jungle_intfield6_floatfield6 ON jungle (int_field6, float_field6);\n",
      "Creating hypoindex CREATE INDEX IF NOT EXISTS idx_jungle_floatfield6_intfield6 ON jungle (float_field6, int_field6);\n",
      "Creating hypoindex CREATE INDEX IF NOT EXISTS idx_jungle_intfield6_floatfield9 ON jungle (int_field6, float_field9);\n",
      "Creating hypoindex CREATE INDEX IF NOT EXISTS idx_jungle_floatfield9_intfield6 ON jungle (float_field9, int_field6);\n",
      "Creating hypoindex CREATE INDEX IF NOT EXISTS idx_jungle_floatfield7_intfield2 ON jungle (float_field7, int_field2);\n",
      "Creating hypoindex CREATE INDEX IF NOT EXISTS idx_jungle_intfield2_floatfield7 ON jungle (int_field2, float_field7);\n",
      "Creating hypoindex CREATE INDEX IF NOT EXISTS idx_jungle_intfield6_floatfield3 ON jungle (int_field6, float_field3);\n",
      "Creating hypoindex CREATE INDEX IF NOT EXISTS idx_jungle_floatfield3_intfield6 ON jungle (float_field3, int_field6);\n",
      "Creating hypoindex CREATE INDEX IF NOT EXISTS idx_jungle_intfield6_floatfield5 ON jungle (int_field6, float_field5);\n",
      "Creating hypoindex CREATE INDEX IF NOT EXISTS idx_jungle_floatfield5_intfield6 ON jungle (float_field5, int_field6);\n",
      "Creating hypoindex CREATE INDEX IF NOT EXISTS idx_jungle_floatfield1_intfield8 ON jungle (float_field1, int_field8);\n",
      "Creating hypoindex CREATE INDEX IF NOT EXISTS idx_jungle_intfield8_floatfield1 ON jungle (int_field8, float_field1);\n",
      "Creating hypoindex CREATE INDEX IF NOT EXISTS idx_jungle_floatfield5_intfield8 ON jungle (float_field5, int_field8);\n",
      "Creating hypoindex CREATE INDEX IF NOT EXISTS idx_jungle_intfield8_floatfield5 ON jungle (int_field8, float_field5);\n",
      "Creating hypoindex CREATE INDEX IF NOT EXISTS idx_jungle_floatfield3_intfield8 ON jungle (float_field3, int_field8);\n",
      "Creating hypoindex CREATE INDEX IF NOT EXISTS idx_jungle_intfield8_floatfield3 ON jungle (int_field8, float_field3);\n",
      "Creating hypoindex CREATE INDEX IF NOT EXISTS idx_jungle_floatfield7_intfield6 ON jungle (float_field7, int_field6);\n",
      "Creating hypoindex CREATE INDEX IF NOT EXISTS idx_jungle_intfield6_floatfield7 ON jungle (int_field6, float_field7);\n",
      "Creating hypoindex CREATE INDEX IF NOT EXISTS idx_jungle_floatfield6_intfield8 ON jungle (float_field6, int_field8);\n",
      "Creating hypoindex CREATE INDEX IF NOT EXISTS idx_jungle_intfield8_floatfield6 ON jungle (int_field8, float_field6);\n",
      "Creating hypoindex CREATE INDEX IF NOT EXISTS idx_jungle_floatfield9_intfield2 ON jungle (float_field9, int_field2);\n",
      "Creating hypoindex CREATE INDEX IF NOT EXISTS idx_jungle_intfield2_floatfield9 ON jungle (int_field2, float_field9);\n",
      "Creating hypoindex CREATE INDEX IF NOT EXISTS idx_jungle_intfield6_floatfield0 ON jungle (int_field6, float_field0);\n",
      "Creating hypoindex CREATE INDEX IF NOT EXISTS idx_jungle_floatfield0_intfield6 ON jungle (float_field0, int_field6);\n",
      "Estimating workload cost with hypothetical indexes\n",
      "cost estimate iter: 0\n",
      "cost estimate iter: 1\n",
      "cost estimate iter: 2\n",
      "cost estimate iter: 3\n",
      "cost estimate iter: 4\n",
      "                                                                                                          sample  \\\n",
      "fingerprint                                                                                                        \n",
      "45b215eafc11c97c  SELECT uuid_field, int_field6 FROM jungle WHERE int_field6 >= 36589 AND int_field6 < 36664       \n",
      "5538a14f5b7672d3  SELECT uuid_field, int_field2 FROM jungle WHERE int_field2 >= 84236 AND int_field2 < 84702       \n",
      "75860c52a6a32ca5  SELECT uuid_field, int_field8 FROM jungle WHERE int_field8 >= 23741 AND int_field8 < 24549       \n",
      "23c05df96b6c7ce6  SELECT * FROM jungle WHERE int_field2 >= 91541 AND int_field2 < 92126                            \n",
      "fb2e5e74d0941fb4  SELECT * FROM jungle WHERE int_field8 >= 65186 AND int_field8 < 65423                            \n",
      "...                                                                                 ...                            \n",
      "62f20a6546c5d9b7  SELECT * FROM jungle WHERE int_field2 >= 94556 AND int_field2 < 94717 AND float_field3 != 0.0    \n",
      "07affac36ff51ef5  SELECT * FROM jungle WHERE int_field2 >= 99717 AND int_field2 < 100342 AND float_field7 != 0.0   \n",
      "e5d6ed7dec21b8b1  SELECT * FROM jungle WHERE int_field6 >= 41891 AND int_field6 < 42000 AND float_field5 != 0.0    \n",
      "c8d4eb7a94271323  SELECT * FROM jungle WHERE int_field6 >= 57782 AND int_field6 < 58057 AND float_field0 != 0.0    \n",
      "8dcd3d73397fcc8c  SELECT * FROM jungle WHERE uuid_field = '10350000-0301-0933-0799-00005301'                       \n",
      "\n",
      "                                                   indexes_used  count  \\\n",
      "fingerprint                                                              \n",
      "45b215eafc11c97c  {<13780>btree_jungle_int_field6_float_field0}  4445    \n",
      "5538a14f5b7672d3  {<13779>btree_jungle_int_field2_float_field9}  4440    \n",
      "75860c52a6a32ca5  {<13777>btree_jungle_int_field8_float_field6}  4410    \n",
      "23c05df96b6c7ce6  {<13779>btree_jungle_int_field2_float_field9}  491     \n",
      "fb2e5e74d0941fb4  {<13777>btree_jungle_int_field8_float_field6}  480     \n",
      "...                                                         ...  ...     \n",
      "62f20a6546c5d9b7  {<13779>btree_jungle_int_field2_float_field9}  9       \n",
      "07affac36ff51ef5  {<13779>btree_jungle_int_field2_float_field9}  9       \n",
      "e5d6ed7dec21b8b1  {<13780>btree_jungle_int_field6_float_field0}  9       \n",
      "c8d4eb7a94271323  {<13780>btree_jungle_int_field6_float_field0}  9       \n",
      "8dcd3d73397fcc8c  {idx_jungle_uuidfield}                         348     \n",
      "\n",
      "                  cost_diff  \n",
      "fingerprint                  \n",
      "45b215eafc11c97c -755.79     \n",
      "5538a14f5b7672d3 -755.79     \n",
      "75860c52a6a32ca5 -755.79     \n",
      "23c05df96b6c7ce6 -755.79     \n",
      "fb2e5e74d0941fb4 -755.79     \n",
      "...                  ...     \n",
      "62f20a6546c5d9b7 -780.66     \n",
      "07affac36ff51ef5 -780.66     \n",
      "e5d6ed7dec21b8b1 -780.66     \n",
      "c8d4eb7a94271323 -780.66     \n",
      "8dcd3d73397fcc8c  0.00       \n",
      "\n",
      "[66 rows x 4 columns]\n",
      "using existing index idx_jungle_uuidfield\n",
      "existing index idx_jungle_intfield3_floatfield7 not used\n",
      "existing index idx_jungle_intfield7 not used\n"
     ]
    },
    {
     "name": "stderr",
     "output_type": "stream",
     "text": [
      "/home/mkpjnx/repos/15799-index-picker/action_selection.py:104: FutureWarning: Passing a negative integer is deprecated in version 1.0 and will not be supported in future version. Instead, use None to not limit the column width.\n",
      "  pd.set_option('display.max_colwidth', -1)\n"
     ]
    }
   ],
   "source": [
    "action_selection.generate_sql(workload_csv, None)"
   ]
  },
  {
   "cell_type": "code",
   "execution_count": 26,
   "metadata": {},
   "outputs": [
    {
     "data": {
      "text/plain": [
       "[('jungle',\n",
       "  'idx_jungle_intfield3_floatfield7',\n",
       "  'CREATE INDEX idx_jungle_intfield3_floatfield7 ON public.jungle USING btree (int_field3, float_field7)',\n",
       "  ['int_field3', 'float_field7']),\n",
       " ('jungle',\n",
       "  'idx_jungle_intfield7',\n",
       "  'CREATE INDEX idx_jungle_intfield7 ON public.jungle USING btree (int_field7)',\n",
       "  ['int_field7']),\n",
       " ('jungle',\n",
       "  'idx_jungle_uuidfield',\n",
       "  'CREATE INDEX idx_jungle_uuidfield ON public.jungle USING btree (uuid_field)',\n",
       "  ['uuid_field'])]"
      ]
     },
     "execution_count": 26,
     "metadata": {},
     "output_type": "execute_result"
    }
   ],
   "source": [
    "db_connector.get_existing_indexes()"
   ]
  },
  {
   "cell_type": "code",
   "execution_count": 10,
   "metadata": {},
   "outputs": [],
   "source": [
    "gen = index_actions.ExhaustiveIndexGenerator(colrefs,2)"
   ]
  },
  {
   "cell_type": "code",
   "execution_count": 6,
   "metadata": {},
   "outputs": [
    {
     "data": {
      "text/plain": [
       "[('jungle', 'idx_jungle_uuidfield', 606208),\n",
       " ('jungle', 'idx_jungle_intfield3_floatfield7', 335872),\n",
       " ('jungle', 'idx_jungle_intfield7', 245760)]"
      ]
     },
     "execution_count": 6,
     "metadata": {},
     "output_type": "execute_result"
    }
   ],
   "source": [
    "db_connector.get_unused_indexes()"
   ]
  },
  {
   "cell_type": "code",
   "execution_count": 7,
   "metadata": {},
   "outputs": [
    {
     "data": {
      "text/plain": [
       "[('jungle',\n",
       "  'idx_jungle_intfield3_floatfield7',\n",
       "  'CREATE INDEX idx_jungle_intfield3_floatfield7 ON public.jungle USING btree (int_field3, float_field7)',\n",
       "  ['int_field3', 'float_field7'],\n",
       "  335872),\n",
       " ('jungle',\n",
       "  'idx_jungle_intfield7',\n",
       "  'CREATE INDEX idx_jungle_intfield7 ON public.jungle USING btree (int_field7)',\n",
       "  ['int_field7'],\n",
       "  245760),\n",
       " ('jungle',\n",
       "  'idx_jungle_uuidfield',\n",
       "  'CREATE INDEX idx_jungle_uuidfield ON public.jungle USING btree (uuid_field)',\n",
       "  ['uuid_field'],\n",
       "  606208)]"
      ]
     },
     "execution_count": 7,
     "metadata": {},
     "output_type": "execute_result"
    }
   ],
   "source": [
    "db_connector.get_existing_indexes()"
   ]
  },
  {
   "cell_type": "code",
   "execution_count": null,
   "metadata": {},
   "outputs": [],
   "source": []
  }
 ],
 "metadata": {
  "kernelspec": {
   "display_name": "Python 3 (ipykernel)",
   "language": "python",
   "name": "python3"
  },
  "language_info": {
   "codemirror_mode": {
    "name": "ipython",
    "version": 3
   },
   "file_extension": ".py",
   "mimetype": "text/x-python",
   "name": "python",
   "nbconvert_exporter": "python",
   "pygments_lexer": "ipython3",
   "version": "3.8.10"
  }
 },
 "nbformat": 4,
 "nbformat_minor": 4
}
