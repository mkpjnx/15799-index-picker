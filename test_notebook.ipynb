{
 "cells": [
  {
   "cell_type": "code",
   "execution_count": 1,
   "metadata": {},
   "outputs": [],
   "source": [
    "import glob\n",
    "from pathlib import Path\n",
    "from typing import List\n",
    "\n",
    "import itertools\n",
    "\n",
    "import pandas as pd\n",
    "import numpy as np\n",
    "import pglast\n",
    "\n",
    "import logparsing\n",
    "import action_generation.index_actions as index_actions"
   ]
  },
  {
   "cell_type": "code",
   "execution_count": 2,
   "metadata": {},
   "outputs": [],
   "source": [
    "pgfiles = glob.glob(str(Path(\"artifacts/workload\") / \"postgresql*.csv\"))\n",
    "pgfiles = sorted(pgfiles)"
   ]
  },
  {
   "cell_type": "markdown",
   "metadata": {},
   "source": [
    "## Get Tables and Columns"
   ]
  },
  {
   "cell_type": "code",
   "execution_count": 1,
   "metadata": {},
   "outputs": [
    {
     "data": {
      "text/plain": [
       "[]"
      ]
     },
     "execution_count": 1,
     "metadata": {},
     "output_type": "execute_result"
    }
   ],
   "source": [
    "import db_connector\n",
    "db_connector.get_existing_indexes()\n"
   ]
  },
  {
   "cell_type": "code",
   "execution_count": 2,
   "metadata": {},
   "outputs": [],
   "source": [
    "col_mappings = db_connector.get_col_mappings()"
   ]
  },
  {
   "cell_type": "code",
   "execution_count": 3,
   "metadata": {},
   "outputs": [
    {
     "ename": "UndefinedTable",
     "evalue": "missing FROM-clause entry for table \"class2\"\nLINE 3:         class.relname AS indname, class2.relname AS tablenam...\n                                          ^",
     "output_type": "error",
     "traceback": [
      "\u001b[0;31m---------------------------------------------------------------------------\u001b[0m",
      "\u001b[0;31mUndefinedTable\u001b[0m                            Traceback (most recent call last)",
      "\u001b[0;32m/tmp/ipykernel_25810/303435680.py\u001b[0m in \u001b[0;36m<module>\u001b[0;34m\u001b[0m\n\u001b[0;32m----> 1\u001b[0;31m \u001b[0mdb_connector\u001b[0m\u001b[0;34m.\u001b[0m\u001b[0mget_existing_indexes\u001b[0m\u001b[0;34m(\u001b[0m\u001b[0;34m)\u001b[0m\u001b[0;34m\u001b[0m\u001b[0;34m\u001b[0m\u001b[0m\n\u001b[0m",
      "\u001b[0;32m~/repos/15799-index-picker/db_connector.py\u001b[0m in \u001b[0;36mget_existing_indexes\u001b[0;34m()\u001b[0m\n\u001b[1;32m     46\u001b[0m         '''\n\u001b[1;32m     47\u001b[0m         \u001b[0mcur\u001b[0m \u001b[0;34m=\u001b[0m \u001b[0mconn\u001b[0m\u001b[0;34m.\u001b[0m\u001b[0mcursor\u001b[0m\u001b[0;34m(\u001b[0m\u001b[0;34m)\u001b[0m\u001b[0;34m\u001b[0m\u001b[0;34m\u001b[0m\u001b[0m\n\u001b[0;32m---> 48\u001b[0;31m         \u001b[0mrecords\u001b[0m \u001b[0;34m=\u001b[0m \u001b[0mcur\u001b[0m\u001b[0;34m.\u001b[0m\u001b[0mexecute\u001b[0m\u001b[0;34m(\u001b[0m\u001b[0mquery\u001b[0m\u001b[0;34m)\u001b[0m\u001b[0;34m\u001b[0m\u001b[0;34m\u001b[0m\u001b[0m\n\u001b[0m\u001b[1;32m     49\u001b[0m         \u001b[0mrows\u001b[0m \u001b[0;34m=\u001b[0m \u001b[0;34m[\u001b[0m\u001b[0mrow\u001b[0m \u001b[0;32mfor\u001b[0m \u001b[0mrow\u001b[0m \u001b[0;32min\u001b[0m \u001b[0mrecords\u001b[0m\u001b[0;34m]\u001b[0m\u001b[0;34m\u001b[0m\u001b[0;34m\u001b[0m\u001b[0m\n\u001b[1;32m     50\u001b[0m         \u001b[0mindnames\u001b[0m \u001b[0;34m=\u001b[0m \u001b[0;34m[\u001b[0m\u001b[0mrow\u001b[0m\u001b[0;34m[\u001b[0m\u001b[0;36m0\u001b[0m\u001b[0;34m]\u001b[0m \u001b[0;32mfor\u001b[0m \u001b[0mrow\u001b[0m \u001b[0;32min\u001b[0m \u001b[0mrows\u001b[0m\u001b[0;34m]\u001b[0m\u001b[0;34m\u001b[0m\u001b[0;34m\u001b[0m\u001b[0m\n",
      "\u001b[0;32m~/.local/lib/python3.8/site-packages/psycopg/cursor.py\u001b[0m in \u001b[0;36mexecute\u001b[0;34m(self, query, params, prepare, binary)\u001b[0m\n\u001b[1;32m    566\u001b[0m                 )\n\u001b[1;32m    567\u001b[0m         \u001b[0;32mexcept\u001b[0m \u001b[0me\u001b[0m\u001b[0;34m.\u001b[0m\u001b[0mError\u001b[0m \u001b[0;32mas\u001b[0m \u001b[0mex\u001b[0m\u001b[0;34m:\u001b[0m\u001b[0;34m\u001b[0m\u001b[0;34m\u001b[0m\u001b[0m\n\u001b[0;32m--> 568\u001b[0;31m             \u001b[0;32mraise\u001b[0m \u001b[0mex\u001b[0m\u001b[0;34m.\u001b[0m\u001b[0mwith_traceback\u001b[0m\u001b[0;34m(\u001b[0m\u001b[0;32mNone\u001b[0m\u001b[0;34m)\u001b[0m\u001b[0;34m\u001b[0m\u001b[0;34m\u001b[0m\u001b[0m\n\u001b[0m\u001b[1;32m    569\u001b[0m         \u001b[0;32mreturn\u001b[0m \u001b[0mself\u001b[0m\u001b[0;34m\u001b[0m\u001b[0;34m\u001b[0m\u001b[0m\n\u001b[1;32m    570\u001b[0m \u001b[0;34m\u001b[0m\u001b[0m\n",
      "\u001b[0;31mUndefinedTable\u001b[0m: missing FROM-clause entry for table \"class2\"\nLINE 3:         class.relname AS indname, class2.relname AS tablenam...\n                                          ^"
     ]
    }
   ],
   "source": []
  },
  {
   "cell_type": "code",
   "execution_count": 34,
   "metadata": {},
   "outputs": [],
   "source": [
    "def get_idents(sql, after_where=True, ident_filter=None):\n",
    "    if after_where and \"WHERE\" not in sql.upper():\n",
    "        return []\n",
    "    ind = sql.index(\"WHERE\") if after_where else -1\n",
    "    tokens = pglast.parser.scan(sql)\n",
    "    if ident_filter is None:\n",
    "        return [sql[tok.start:tok.end+1] for tok in tokens if tok.name == 'IDENT' and tok.start > ind]\n",
    "    return [\n",
    "        sql[tok.start:tok.end+1]\n",
    "        for tok in tokens\n",
    "        if tok.name == 'IDENT'\n",
    "        and tok.start > ind\n",
    "        and ident_filter(sql[tok.start:tok.end+1])\n",
    "    ]"
   ]
  },
  {
   "cell_type": "code",
   "execution_count": 35,
   "metadata": {},
   "outputs": [],
   "source": [
    "from collections import defaultdict\n",
    "table_colrefs_joint_counts = defaultdict(lambda: defaultdict(np.uint64))\n",
    "for pgfile in pgfiles:\n",
    "  df = logparsing.parse_csv_log(pgfile)\n",
    "\n",
    "  query_col_refs = df.queries.apply(get_idents, args=(True,lambda name : name in col_mappings))\n",
    "  query_col_refs = query_col_refs[query_col_refs.str.len() != 0]\n",
    "  tables_used = query_col_refs.apply(lambda l : set([col_mappings[c] for c in l]))\n",
    "  for (cols, tables) in zip(query_col_refs, tables_used):\n",
    "    for table in tables:\n",
    "      cols_for_tabs = [col for col in cols if col_mappings[col] == table]\n",
    "      joint_ref = tuple(dict.fromkeys(cols_for_tabs))\n",
    "      table_colrefs_joint_counts[table][joint_ref] += 1"
   ]
  },
  {
   "cell_type": "code",
   "execution_count": 36,
   "metadata": {},
   "outputs": [
    {
     "data": {
      "text/plain": [
       "defaultdict(<function __main__.<lambda>()>,\n",
       "            {'customer': defaultdict(numpy.uint64,\n",
       "                         {('C_W_ID', 'C_D_ID', 'C_ID'): 12062.0,\n",
       "                          ('C_W_ID', 'C_D_ID', 'C_LAST', 'C_FIRST'): 2276.0}),\n",
       "             'warehouse': defaultdict(numpy.uint64, {('W_ID',): 10522.0}),\n",
       "             'district': defaultdict(numpy.uint64,\n",
       "                         {('D_W_ID', 'D_ID'): 14435.0}),\n",
       "             'item': defaultdict(numpy.uint64, {('I_ID',): 36175.0}),\n",
       "             'stock': defaultdict(numpy.uint64,\n",
       "                         {('S_I_ID', 'S_W_ID'): 72068.0,\n",
       "                          ('S_W_ID', 'S_I_ID', 'S_QUANTITY'): 307.0}),\n",
       "             'new_order': defaultdict(numpy.uint64,\n",
       "                         {('NO_D_ID', 'NO_W_ID', 'NO_O_ID'): 3130.0,\n",
       "                          ('NO_O_ID', 'NO_D_ID', 'NO_W_ID'): 3130.0}),\n",
       "             'oorder': defaultdict(numpy.uint64,\n",
       "                         {('O_ID', 'O_D_ID', 'O_W_ID'): 6260.0,\n",
       "                          ('O_W_ID', 'O_D_ID', 'O_C_ID', 'O_ID'): 320.0}),\n",
       "             'order_line': defaultdict(numpy.uint64,\n",
       "                         {('OL_O_ID', 'OL_D_ID', 'OL_W_ID'): 6580.0,\n",
       "                          ('OL_W_ID',\n",
       "                           'OL_D_ID',\n",
       "                           'OL_O_ID',\n",
       "                           'OL_I_ID'): 307.0})})"
      ]
     },
     "execution_count": 36,
     "metadata": {},
     "output_type": "execute_result"
    }
   ],
   "source": [
    "table_colrefs_joint_counts"
   ]
  },
  {
   "cell_type": "code",
   "execution_count": 13,
   "metadata": {},
   "outputs": [
    {
     "name": "stdout",
     "output_type": "stream",
     "text": [
      "CREATE INDEX idx_customer_CWID_CDID_CID ON customer  (C_W_ID, C_D_ID, C_ID);\n",
      "CREATE INDEX idx_customer_CWID_CDID_CLAST_CFIRST ON customer  (C_W_ID, C_D_ID, C_LAST, C_FIRST);\n",
      "CREATE INDEX idx_warehouse_WID ON warehouse  (W_ID);\n",
      "CREATE INDEX idx_district_DWID_DID ON district  (D_W_ID, D_ID);\n",
      "CREATE INDEX idx_item_IID ON item  (I_ID);\n",
      "CREATE INDEX idx_stock_SIID_SWID ON stock  (S_I_ID, S_W_ID);\n",
      "CREATE INDEX idx_stock_SWID_SIID_SQUANTITY ON stock  (S_W_ID, S_I_ID, S_QUANTITY);\n",
      "CREATE INDEX idx_new_order_NODID_NOWID_NOOID ON new_order  (NO_D_ID, NO_W_ID, NO_O_ID);\n",
      "CREATE INDEX idx_new_order_NOOID_NODID_NOWID ON new_order  (NO_O_ID, NO_D_ID, NO_W_ID);\n",
      "CREATE INDEX idx_oorder_OID_ODID_OWID ON oorder  (O_ID, O_D_ID, O_W_ID);\n",
      "CREATE INDEX idx_oorder_OWID_ODID_OCID_OID ON oorder  (O_W_ID, O_D_ID, O_C_ID, O_ID);\n",
      "CREATE INDEX idx_order_line_OLOID_OLDID_OLWID ON order_line  (OL_O_ID, OL_D_ID, OL_W_ID);\n",
      "CREATE INDEX idx_order_line_OLWID_OLDID_OLOID_OLIID ON order_line  (OL_W_ID, OL_D_ID, OL_O_ID, OL_I_ID);\n"
     ]
    }
   ],
   "source": [
    "simple = index_actions.SimpleIndexGenerator(table_colrefs_joint_counts)\n",
    "for action in simple:\n",
    "  print(action)"
   ]
  },
  {
   "cell_type": "code",
   "execution_count": 14,
   "metadata": {},
   "outputs": [
    {
     "name": "stdout",
     "output_type": "stream",
     "text": [
      "CREATE INDEX idx_customer_CWID ON customer  (C_W_ID);\n",
      "CREATE INDEX idx_customer_CDID ON customer  (C_D_ID);\n",
      "CREATE INDEX idx_customer_CID ON customer  (C_ID);\n",
      "CREATE INDEX idx_customer_CLAST ON customer  (C_LAST);\n",
      "CREATE INDEX idx_customer_CFIRST ON customer  (C_FIRST);\n",
      "CREATE INDEX idx_customer_CWID_CDID ON customer  (C_W_ID, C_D_ID);\n",
      "CREATE INDEX idx_customer_CWID_CID ON customer  (C_W_ID, C_ID);\n",
      "CREATE INDEX idx_customer_CDID_CWID ON customer  (C_D_ID, C_W_ID);\n",
      "CREATE INDEX idx_customer_CDID_CID ON customer  (C_D_ID, C_ID);\n",
      "CREATE INDEX idx_customer_CID_CWID ON customer  (C_ID, C_W_ID);\n",
      "CREATE INDEX idx_customer_CID_CDID ON customer  (C_ID, C_D_ID);\n",
      "CREATE INDEX idx_customer_CWID_CLAST ON customer  (C_W_ID, C_LAST);\n",
      "CREATE INDEX idx_customer_CWID_CFIRST ON customer  (C_W_ID, C_FIRST);\n",
      "CREATE INDEX idx_customer_CDID_CLAST ON customer  (C_D_ID, C_LAST);\n",
      "CREATE INDEX idx_customer_CDID_CFIRST ON customer  (C_D_ID, C_FIRST);\n",
      "CREATE INDEX idx_customer_CLAST_CWID ON customer  (C_LAST, C_W_ID);\n",
      "CREATE INDEX idx_customer_CLAST_CDID ON customer  (C_LAST, C_D_ID);\n",
      "CREATE INDEX idx_customer_CLAST_CFIRST ON customer  (C_LAST, C_FIRST);\n",
      "CREATE INDEX idx_customer_CFIRST_CWID ON customer  (C_FIRST, C_W_ID);\n",
      "CREATE INDEX idx_customer_CFIRST_CDID ON customer  (C_FIRST, C_D_ID);\n",
      "CREATE INDEX idx_customer_CFIRST_CLAST ON customer  (C_FIRST, C_LAST);\n",
      "CREATE INDEX idx_warehouse_WID ON warehouse  (W_ID);\n",
      "CREATE INDEX idx_district_DWID ON district  (D_W_ID);\n",
      "CREATE INDEX idx_district_DID ON district  (D_ID);\n",
      "CREATE INDEX idx_district_DWID_DID ON district  (D_W_ID, D_ID);\n",
      "CREATE INDEX idx_district_DID_DWID ON district  (D_ID, D_W_ID);\n",
      "CREATE INDEX idx_item_IID ON item  (I_ID);\n",
      "CREATE INDEX idx_stock_SIID ON stock  (S_I_ID);\n",
      "CREATE INDEX idx_stock_SWID ON stock  (S_W_ID);\n",
      "CREATE INDEX idx_stock_SQUANTITY ON stock  (S_QUANTITY);\n",
      "CREATE INDEX idx_stock_SIID_SWID ON stock  (S_I_ID, S_W_ID);\n",
      "CREATE INDEX idx_stock_SWID_SIID ON stock  (S_W_ID, S_I_ID);\n",
      "CREATE INDEX idx_stock_SWID_SQUANTITY ON stock  (S_W_ID, S_QUANTITY);\n",
      "CREATE INDEX idx_stock_SIID_SQUANTITY ON stock  (S_I_ID, S_QUANTITY);\n",
      "CREATE INDEX idx_stock_SQUANTITY_SWID ON stock  (S_QUANTITY, S_W_ID);\n",
      "CREATE INDEX idx_stock_SQUANTITY_SIID ON stock  (S_QUANTITY, S_I_ID);\n",
      "CREATE INDEX idx_new_order_NODID ON new_order  (NO_D_ID);\n",
      "CREATE INDEX idx_new_order_NOWID ON new_order  (NO_W_ID);\n",
      "CREATE INDEX idx_new_order_NOOID ON new_order  (NO_O_ID);\n",
      "CREATE INDEX idx_new_order_NODID_NOWID ON new_order  (NO_D_ID, NO_W_ID);\n",
      "CREATE INDEX idx_new_order_NODID_NOOID ON new_order  (NO_D_ID, NO_O_ID);\n",
      "CREATE INDEX idx_new_order_NOWID_NODID ON new_order  (NO_W_ID, NO_D_ID);\n",
      "CREATE INDEX idx_new_order_NOWID_NOOID ON new_order  (NO_W_ID, NO_O_ID);\n",
      "CREATE INDEX idx_new_order_NOOID_NODID ON new_order  (NO_O_ID, NO_D_ID);\n",
      "CREATE INDEX idx_new_order_NOOID_NOWID ON new_order  (NO_O_ID, NO_W_ID);\n",
      "CREATE INDEX idx_oorder_OID ON oorder  (O_ID);\n",
      "CREATE INDEX idx_oorder_ODID ON oorder  (O_D_ID);\n",
      "CREATE INDEX idx_oorder_OWID ON oorder  (O_W_ID);\n",
      "CREATE INDEX idx_oorder_OCID ON oorder  (O_C_ID);\n",
      "CREATE INDEX idx_oorder_OID_ODID ON oorder  (O_ID, O_D_ID);\n",
      "CREATE INDEX idx_oorder_OID_OWID ON oorder  (O_ID, O_W_ID);\n",
      "CREATE INDEX idx_oorder_ODID_OID ON oorder  (O_D_ID, O_ID);\n",
      "CREATE INDEX idx_oorder_ODID_OWID ON oorder  (O_D_ID, O_W_ID);\n",
      "CREATE INDEX idx_oorder_OWID_OID ON oorder  (O_W_ID, O_ID);\n",
      "CREATE INDEX idx_oorder_OWID_ODID ON oorder  (O_W_ID, O_D_ID);\n",
      "CREATE INDEX idx_oorder_OWID_OCID ON oorder  (O_W_ID, O_C_ID);\n",
      "CREATE INDEX idx_oorder_ODID_OCID ON oorder  (O_D_ID, O_C_ID);\n",
      "CREATE INDEX idx_oorder_OCID_OWID ON oorder  (O_C_ID, O_W_ID);\n",
      "CREATE INDEX idx_oorder_OCID_ODID ON oorder  (O_C_ID, O_D_ID);\n",
      "CREATE INDEX idx_oorder_OCID_OID ON oorder  (O_C_ID, O_ID);\n",
      "CREATE INDEX idx_oorder_OID_OCID ON oorder  (O_ID, O_C_ID);\n",
      "CREATE INDEX idx_order_line_OLOID ON order_line  (OL_O_ID);\n",
      "CREATE INDEX idx_order_line_OLDID ON order_line  (OL_D_ID);\n",
      "CREATE INDEX idx_order_line_OLWID ON order_line  (OL_W_ID);\n",
      "CREATE INDEX idx_order_line_OLIID ON order_line  (OL_I_ID);\n",
      "CREATE INDEX idx_order_line_OLOID_OLDID ON order_line  (OL_O_ID, OL_D_ID);\n",
      "CREATE INDEX idx_order_line_OLOID_OLWID ON order_line  (OL_O_ID, OL_W_ID);\n",
      "CREATE INDEX idx_order_line_OLDID_OLOID ON order_line  (OL_D_ID, OL_O_ID);\n",
      "CREATE INDEX idx_order_line_OLDID_OLWID ON order_line  (OL_D_ID, OL_W_ID);\n",
      "CREATE INDEX idx_order_line_OLWID_OLOID ON order_line  (OL_W_ID, OL_O_ID);\n",
      "CREATE INDEX idx_order_line_OLWID_OLDID ON order_line  (OL_W_ID, OL_D_ID);\n",
      "CREATE INDEX idx_order_line_OLWID_OLIID ON order_line  (OL_W_ID, OL_I_ID);\n",
      "CREATE INDEX idx_order_line_OLDID_OLIID ON order_line  (OL_D_ID, OL_I_ID);\n",
      "CREATE INDEX idx_order_line_OLOID_OLIID ON order_line  (OL_O_ID, OL_I_ID);\n",
      "CREATE INDEX idx_order_line_OLIID_OLWID ON order_line  (OL_I_ID, OL_W_ID);\n",
      "CREATE INDEX idx_order_line_OLIID_OLDID ON order_line  (OL_I_ID, OL_D_ID);\n",
      "CREATE INDEX idx_order_line_OLIID_OLOID ON order_line  (OL_I_ID, OL_O_ID);\n"
     ]
    }
   ],
   "source": [
    "exhaustive = index_actions.ExhaustiveIndexGenerator(table_colrefs_joint_counts, 2)\n",
    "for action in exhaustive:\n",
    "  print(action)"
   ]
  },
  {
   "cell_type": "code",
   "execution_count": 15,
   "metadata": {},
   "outputs": [
    {
     "name": "stdout",
     "output_type": "stream",
     "text": [
      "CREATE INDEX idx_customer_CWID ON customer USING HASH (C_W_ID);\n",
      "CREATE INDEX idx_customer_CWID ON customer USING BRIN (C_W_ID);\n",
      "CREATE INDEX idx_customer_CDID ON customer USING HASH (C_D_ID);\n",
      "CREATE INDEX idx_customer_CDID ON customer USING BRIN (C_D_ID);\n",
      "CREATE INDEX idx_customer_CID ON customer USING HASH (C_ID);\n",
      "CREATE INDEX idx_customer_CID ON customer USING BRIN (C_ID);\n",
      "CREATE INDEX idx_customer_CLAST ON customer USING HASH (C_LAST);\n",
      "CREATE INDEX idx_customer_CLAST ON customer USING BRIN (C_LAST);\n",
      "CREATE INDEX idx_customer_CFIRST ON customer USING HASH (C_FIRST);\n",
      "CREATE INDEX idx_customer_CFIRST ON customer USING BRIN (C_FIRST);\n",
      "CREATE INDEX idx_customer_CWID_CDID ON customer USING HASH (C_W_ID, C_D_ID);\n",
      "CREATE INDEX idx_customer_CWID_CDID ON customer USING BRIN (C_W_ID, C_D_ID);\n",
      "CREATE INDEX idx_customer_CWID_CID ON customer USING HASH (C_W_ID, C_ID);\n",
      "CREATE INDEX idx_customer_CWID_CID ON customer USING BRIN (C_W_ID, C_ID);\n",
      "CREATE INDEX idx_customer_CDID_CWID ON customer USING HASH (C_D_ID, C_W_ID);\n",
      "CREATE INDEX idx_customer_CDID_CWID ON customer USING BRIN (C_D_ID, C_W_ID);\n",
      "CREATE INDEX idx_customer_CDID_CID ON customer USING HASH (C_D_ID, C_ID);\n",
      "CREATE INDEX idx_customer_CDID_CID ON customer USING BRIN (C_D_ID, C_ID);\n",
      "CREATE INDEX idx_customer_CID_CWID ON customer USING HASH (C_ID, C_W_ID);\n",
      "CREATE INDEX idx_customer_CID_CWID ON customer USING BRIN (C_ID, C_W_ID);\n",
      "CREATE INDEX idx_customer_CID_CDID ON customer USING HASH (C_ID, C_D_ID);\n",
      "CREATE INDEX idx_customer_CID_CDID ON customer USING BRIN (C_ID, C_D_ID);\n",
      "CREATE INDEX idx_customer_CWID_CLAST ON customer USING HASH (C_W_ID, C_LAST);\n",
      "CREATE INDEX idx_customer_CWID_CLAST ON customer USING BRIN (C_W_ID, C_LAST);\n",
      "CREATE INDEX idx_customer_CWID_CFIRST ON customer USING HASH (C_W_ID, C_FIRST);\n",
      "CREATE INDEX idx_customer_CWID_CFIRST ON customer USING BRIN (C_W_ID, C_FIRST);\n",
      "CREATE INDEX idx_customer_CDID_CLAST ON customer USING HASH (C_D_ID, C_LAST);\n",
      "CREATE INDEX idx_customer_CDID_CLAST ON customer USING BRIN (C_D_ID, C_LAST);\n",
      "CREATE INDEX idx_customer_CDID_CFIRST ON customer USING HASH (C_D_ID, C_FIRST);\n",
      "CREATE INDEX idx_customer_CDID_CFIRST ON customer USING BRIN (C_D_ID, C_FIRST);\n",
      "CREATE INDEX idx_customer_CLAST_CWID ON customer USING HASH (C_LAST, C_W_ID);\n",
      "CREATE INDEX idx_customer_CLAST_CWID ON customer USING BRIN (C_LAST, C_W_ID);\n",
      "CREATE INDEX idx_customer_CLAST_CDID ON customer USING HASH (C_LAST, C_D_ID);\n",
      "CREATE INDEX idx_customer_CLAST_CDID ON customer USING BRIN (C_LAST, C_D_ID);\n",
      "CREATE INDEX idx_customer_CLAST_CFIRST ON customer USING HASH (C_LAST, C_FIRST);\n",
      "CREATE INDEX idx_customer_CLAST_CFIRST ON customer USING BRIN (C_LAST, C_FIRST);\n",
      "CREATE INDEX idx_customer_CFIRST_CWID ON customer USING HASH (C_FIRST, C_W_ID);\n",
      "CREATE INDEX idx_customer_CFIRST_CWID ON customer USING BRIN (C_FIRST, C_W_ID);\n",
      "CREATE INDEX idx_customer_CFIRST_CDID ON customer USING HASH (C_FIRST, C_D_ID);\n",
      "CREATE INDEX idx_customer_CFIRST_CDID ON customer USING BRIN (C_FIRST, C_D_ID);\n",
      "CREATE INDEX idx_customer_CFIRST_CLAST ON customer USING HASH (C_FIRST, C_LAST);\n",
      "CREATE INDEX idx_customer_CFIRST_CLAST ON customer USING BRIN (C_FIRST, C_LAST);\n",
      "CREATE INDEX idx_warehouse_WID ON warehouse USING HASH (W_ID);\n",
      "CREATE INDEX idx_warehouse_WID ON warehouse USING BRIN (W_ID);\n",
      "CREATE INDEX idx_district_DWID ON district USING HASH (D_W_ID);\n",
      "CREATE INDEX idx_district_DWID ON district USING BRIN (D_W_ID);\n",
      "CREATE INDEX idx_district_DID ON district USING HASH (D_ID);\n",
      "CREATE INDEX idx_district_DID ON district USING BRIN (D_ID);\n",
      "CREATE INDEX idx_district_DWID_DID ON district USING HASH (D_W_ID, D_ID);\n",
      "CREATE INDEX idx_district_DWID_DID ON district USING BRIN (D_W_ID, D_ID);\n",
      "CREATE INDEX idx_district_DID_DWID ON district USING HASH (D_ID, D_W_ID);\n",
      "CREATE INDEX idx_district_DID_DWID ON district USING BRIN (D_ID, D_W_ID);\n",
      "CREATE INDEX idx_item_IID ON item USING HASH (I_ID);\n",
      "CREATE INDEX idx_item_IID ON item USING BRIN (I_ID);\n",
      "CREATE INDEX idx_stock_SIID ON stock USING HASH (S_I_ID);\n",
      "CREATE INDEX idx_stock_SIID ON stock USING BRIN (S_I_ID);\n",
      "CREATE INDEX idx_stock_SWID ON stock USING HASH (S_W_ID);\n",
      "CREATE INDEX idx_stock_SWID ON stock USING BRIN (S_W_ID);\n",
      "CREATE INDEX idx_stock_SQUANTITY ON stock USING HASH (S_QUANTITY);\n",
      "CREATE INDEX idx_stock_SQUANTITY ON stock USING BRIN (S_QUANTITY);\n",
      "CREATE INDEX idx_stock_SIID_SWID ON stock USING HASH (S_I_ID, S_W_ID);\n",
      "CREATE INDEX idx_stock_SIID_SWID ON stock USING BRIN (S_I_ID, S_W_ID);\n",
      "CREATE INDEX idx_stock_SWID_SIID ON stock USING HASH (S_W_ID, S_I_ID);\n",
      "CREATE INDEX idx_stock_SWID_SIID ON stock USING BRIN (S_W_ID, S_I_ID);\n",
      "CREATE INDEX idx_stock_SWID_SQUANTITY ON stock USING HASH (S_W_ID, S_QUANTITY);\n",
      "CREATE INDEX idx_stock_SWID_SQUANTITY ON stock USING BRIN (S_W_ID, S_QUANTITY);\n",
      "CREATE INDEX idx_stock_SIID_SQUANTITY ON stock USING HASH (S_I_ID, S_QUANTITY);\n",
      "CREATE INDEX idx_stock_SIID_SQUANTITY ON stock USING BRIN (S_I_ID, S_QUANTITY);\n",
      "CREATE INDEX idx_stock_SQUANTITY_SWID ON stock USING HASH (S_QUANTITY, S_W_ID);\n",
      "CREATE INDEX idx_stock_SQUANTITY_SWID ON stock USING BRIN (S_QUANTITY, S_W_ID);\n",
      "CREATE INDEX idx_stock_SQUANTITY_SIID ON stock USING HASH (S_QUANTITY, S_I_ID);\n",
      "CREATE INDEX idx_stock_SQUANTITY_SIID ON stock USING BRIN (S_QUANTITY, S_I_ID);\n",
      "CREATE INDEX idx_new_order_NODID ON new_order USING HASH (NO_D_ID);\n",
      "CREATE INDEX idx_new_order_NODID ON new_order USING BRIN (NO_D_ID);\n",
      "CREATE INDEX idx_new_order_NOWID ON new_order USING HASH (NO_W_ID);\n",
      "CREATE INDEX idx_new_order_NOWID ON new_order USING BRIN (NO_W_ID);\n",
      "CREATE INDEX idx_new_order_NOOID ON new_order USING HASH (NO_O_ID);\n",
      "CREATE INDEX idx_new_order_NOOID ON new_order USING BRIN (NO_O_ID);\n",
      "CREATE INDEX idx_new_order_NODID_NOWID ON new_order USING HASH (NO_D_ID, NO_W_ID);\n",
      "CREATE INDEX idx_new_order_NODID_NOWID ON new_order USING BRIN (NO_D_ID, NO_W_ID);\n",
      "CREATE INDEX idx_new_order_NODID_NOOID ON new_order USING HASH (NO_D_ID, NO_O_ID);\n",
      "CREATE INDEX idx_new_order_NODID_NOOID ON new_order USING BRIN (NO_D_ID, NO_O_ID);\n",
      "CREATE INDEX idx_new_order_NOWID_NODID ON new_order USING HASH (NO_W_ID, NO_D_ID);\n",
      "CREATE INDEX idx_new_order_NOWID_NODID ON new_order USING BRIN (NO_W_ID, NO_D_ID);\n",
      "CREATE INDEX idx_new_order_NOWID_NOOID ON new_order USING HASH (NO_W_ID, NO_O_ID);\n",
      "CREATE INDEX idx_new_order_NOWID_NOOID ON new_order USING BRIN (NO_W_ID, NO_O_ID);\n",
      "CREATE INDEX idx_new_order_NOOID_NODID ON new_order USING HASH (NO_O_ID, NO_D_ID);\n",
      "CREATE INDEX idx_new_order_NOOID_NODID ON new_order USING BRIN (NO_O_ID, NO_D_ID);\n",
      "CREATE INDEX idx_new_order_NOOID_NOWID ON new_order USING HASH (NO_O_ID, NO_W_ID);\n",
      "CREATE INDEX idx_new_order_NOOID_NOWID ON new_order USING BRIN (NO_O_ID, NO_W_ID);\n",
      "CREATE INDEX idx_oorder_OID ON oorder USING HASH (O_ID);\n",
      "CREATE INDEX idx_oorder_OID ON oorder USING BRIN (O_ID);\n",
      "CREATE INDEX idx_oorder_ODID ON oorder USING HASH (O_D_ID);\n",
      "CREATE INDEX idx_oorder_ODID ON oorder USING BRIN (O_D_ID);\n",
      "CREATE INDEX idx_oorder_OWID ON oorder USING HASH (O_W_ID);\n",
      "CREATE INDEX idx_oorder_OWID ON oorder USING BRIN (O_W_ID);\n",
      "CREATE INDEX idx_oorder_OCID ON oorder USING HASH (O_C_ID);\n",
      "CREATE INDEX idx_oorder_OCID ON oorder USING BRIN (O_C_ID);\n",
      "CREATE INDEX idx_oorder_OID_ODID ON oorder USING HASH (O_ID, O_D_ID);\n",
      "CREATE INDEX idx_oorder_OID_ODID ON oorder USING BRIN (O_ID, O_D_ID);\n",
      "CREATE INDEX idx_oorder_OID_OWID ON oorder USING HASH (O_ID, O_W_ID);\n",
      "CREATE INDEX idx_oorder_OID_OWID ON oorder USING BRIN (O_ID, O_W_ID);\n",
      "CREATE INDEX idx_oorder_ODID_OID ON oorder USING HASH (O_D_ID, O_ID);\n",
      "CREATE INDEX idx_oorder_ODID_OID ON oorder USING BRIN (O_D_ID, O_ID);\n",
      "CREATE INDEX idx_oorder_ODID_OWID ON oorder USING HASH (O_D_ID, O_W_ID);\n",
      "CREATE INDEX idx_oorder_ODID_OWID ON oorder USING BRIN (O_D_ID, O_W_ID);\n",
      "CREATE INDEX idx_oorder_OWID_OID ON oorder USING HASH (O_W_ID, O_ID);\n",
      "CREATE INDEX idx_oorder_OWID_OID ON oorder USING BRIN (O_W_ID, O_ID);\n",
      "CREATE INDEX idx_oorder_OWID_ODID ON oorder USING HASH (O_W_ID, O_D_ID);\n",
      "CREATE INDEX idx_oorder_OWID_ODID ON oorder USING BRIN (O_W_ID, O_D_ID);\n",
      "CREATE INDEX idx_oorder_OWID_OCID ON oorder USING HASH (O_W_ID, O_C_ID);\n",
      "CREATE INDEX idx_oorder_OWID_OCID ON oorder USING BRIN (O_W_ID, O_C_ID);\n",
      "CREATE INDEX idx_oorder_ODID_OCID ON oorder USING HASH (O_D_ID, O_C_ID);\n",
      "CREATE INDEX idx_oorder_ODID_OCID ON oorder USING BRIN (O_D_ID, O_C_ID);\n",
      "CREATE INDEX idx_oorder_OCID_OWID ON oorder USING HASH (O_C_ID, O_W_ID);\n",
      "CREATE INDEX idx_oorder_OCID_OWID ON oorder USING BRIN (O_C_ID, O_W_ID);\n",
      "CREATE INDEX idx_oorder_OCID_ODID ON oorder USING HASH (O_C_ID, O_D_ID);\n",
      "CREATE INDEX idx_oorder_OCID_ODID ON oorder USING BRIN (O_C_ID, O_D_ID);\n",
      "CREATE INDEX idx_oorder_OCID_OID ON oorder USING HASH (O_C_ID, O_ID);\n",
      "CREATE INDEX idx_oorder_OCID_OID ON oorder USING BRIN (O_C_ID, O_ID);\n",
      "CREATE INDEX idx_oorder_OID_OCID ON oorder USING HASH (O_ID, O_C_ID);\n",
      "CREATE INDEX idx_oorder_OID_OCID ON oorder USING BRIN (O_ID, O_C_ID);\n",
      "CREATE INDEX idx_order_line_OLOID ON order_line USING HASH (OL_O_ID);\n",
      "CREATE INDEX idx_order_line_OLOID ON order_line USING BRIN (OL_O_ID);\n",
      "CREATE INDEX idx_order_line_OLDID ON order_line USING HASH (OL_D_ID);\n",
      "CREATE INDEX idx_order_line_OLDID ON order_line USING BRIN (OL_D_ID);\n",
      "CREATE INDEX idx_order_line_OLWID ON order_line USING HASH (OL_W_ID);\n",
      "CREATE INDEX idx_order_line_OLWID ON order_line USING BRIN (OL_W_ID);\n",
      "CREATE INDEX idx_order_line_OLIID ON order_line USING HASH (OL_I_ID);\n",
      "CREATE INDEX idx_order_line_OLIID ON order_line USING BRIN (OL_I_ID);\n",
      "CREATE INDEX idx_order_line_OLOID_OLDID ON order_line USING HASH (OL_O_ID, OL_D_ID);\n",
      "CREATE INDEX idx_order_line_OLOID_OLDID ON order_line USING BRIN (OL_O_ID, OL_D_ID);\n",
      "CREATE INDEX idx_order_line_OLOID_OLWID ON order_line USING HASH (OL_O_ID, OL_W_ID);\n",
      "CREATE INDEX idx_order_line_OLOID_OLWID ON order_line USING BRIN (OL_O_ID, OL_W_ID);\n",
      "CREATE INDEX idx_order_line_OLDID_OLOID ON order_line USING HASH (OL_D_ID, OL_O_ID);\n",
      "CREATE INDEX idx_order_line_OLDID_OLOID ON order_line USING BRIN (OL_D_ID, OL_O_ID);\n",
      "CREATE INDEX idx_order_line_OLDID_OLWID ON order_line USING HASH (OL_D_ID, OL_W_ID);\n",
      "CREATE INDEX idx_order_line_OLDID_OLWID ON order_line USING BRIN (OL_D_ID, OL_W_ID);\n",
      "CREATE INDEX idx_order_line_OLWID_OLOID ON order_line USING HASH (OL_W_ID, OL_O_ID);\n",
      "CREATE INDEX idx_order_line_OLWID_OLOID ON order_line USING BRIN (OL_W_ID, OL_O_ID);\n",
      "CREATE INDEX idx_order_line_OLWID_OLDID ON order_line USING HASH (OL_W_ID, OL_D_ID);\n",
      "CREATE INDEX idx_order_line_OLWID_OLDID ON order_line USING BRIN (OL_W_ID, OL_D_ID);\n",
      "CREATE INDEX idx_order_line_OLWID_OLIID ON order_line USING HASH (OL_W_ID, OL_I_ID);\n",
      "CREATE INDEX idx_order_line_OLWID_OLIID ON order_line USING BRIN (OL_W_ID, OL_I_ID);\n",
      "CREATE INDEX idx_order_line_OLDID_OLIID ON order_line USING HASH (OL_D_ID, OL_I_ID);\n",
      "CREATE INDEX idx_order_line_OLDID_OLIID ON order_line USING BRIN (OL_D_ID, OL_I_ID);\n",
      "CREATE INDEX idx_order_line_OLOID_OLIID ON order_line USING HASH (OL_O_ID, OL_I_ID);\n",
      "CREATE INDEX idx_order_line_OLOID_OLIID ON order_line USING BRIN (OL_O_ID, OL_I_ID);\n",
      "CREATE INDEX idx_order_line_OLIID_OLWID ON order_line USING HASH (OL_I_ID, OL_W_ID);\n",
      "CREATE INDEX idx_order_line_OLIID_OLWID ON order_line USING BRIN (OL_I_ID, OL_W_ID);\n",
      "CREATE INDEX idx_order_line_OLIID_OLDID ON order_line USING HASH (OL_I_ID, OL_D_ID);\n",
      "CREATE INDEX idx_order_line_OLIID_OLDID ON order_line USING BRIN (OL_I_ID, OL_D_ID);\n",
      "CREATE INDEX idx_order_line_OLIID_OLOID ON order_line USING HASH (OL_I_ID, OL_O_ID);\n",
      "CREATE INDEX idx_order_line_OLIID_OLOID ON order_line USING BRIN (OL_I_ID, OL_O_ID);\n"
     ]
    }
   ],
   "source": [
    "typed = index_actions.TypedIndexGenerator(exhaustive)\n",
    "for action in typed:\n",
    "  print(action)"
   ]
  },
  {
   "cell_type": "code",
   "execution_count": null,
   "metadata": {},
   "outputs": [],
   "source": []
  }
 ],
 "metadata": {
  "kernelspec": {
   "display_name": "Python 3 (ipykernel)",
   "language": "python",
   "name": "python3"
  },
  "language_info": {
   "codemirror_mode": {
    "name": "ipython",
    "version": 3
   },
   "file_extension": ".py",
   "mimetype": "text/x-python",
   "name": "python",
   "nbconvert_exporter": "python",
   "pygments_lexer": "ipython3",
   "version": "3.8.10"
  }
 },
 "nbformat": 4,
 "nbformat_minor": 4
}
