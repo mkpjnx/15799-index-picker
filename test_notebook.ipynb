{
 "cells": [
  {
   "cell_type": "code",
   "execution_count": 1,
   "metadata": {},
   "outputs": [],
   "source": [
    "from typing import List\n",
    "\n",
    "import pandas as pd\n",
    "import numpy as np\n",
    "import pglast\n",
    "\n",
    "import logparsing\n",
    "import action_selection\n",
    "import action_generation.index_actions as index_actions\n",
    "import db_connector"
   ]
  },
  {
   "cell_type": "code",
   "execution_count": 2,
   "metadata": {},
   "outputs": [
    {
     "data": {
      "text/plain": [
       "['DROP INDEX IF EXISTS idx_jungle_intfield3_floatfield7;',\n",
       " 'DROP INDEX IF EXISTS idx_jungle_intfield7;',\n",
       " 'DROP INDEX IF EXISTS idx_jungle_uuidfield;']"
      ]
     },
     "execution_count": 2,
     "metadata": {},
     "output_type": "execute_result"
    }
   ],
   "source": [
    "[str(a) for a in index_actions.DropIndexGenerator(db_connector.get_existing_indexes())]"
   ]
  },
  {
   "cell_type": "code",
   "execution_count": 3,
   "metadata": {},
   "outputs": [],
   "source": [
    "workload_csv = \"artifacts/workload/workload.csv\"\n",
    "timeout = 100"
   ]
  },
  {
   "cell_type": "code",
   "execution_count": 4,
   "metadata": {},
   "outputs": [],
   "source": [
    "col_mappings = db_connector.get_col_mappings()\n",
    "parsed = logparsing.parse_csv_log(workload_csv)\n",
    "filtered = logparsing.aggregate_templates(parsed, col_mappings, 0.01)\n",
    "colrefs = action_selection.get_workload_colrefs(filtered)"
   ]
  },
  {
   "cell_type": "code",
   "execution_count": 19,
   "metadata": {},
   "outputs": [
    {
     "name": "stdout",
     "output_type": "stream",
     "text": [
      "cost estimate iter: 0\n",
      "cost estimate iter: 0\n",
      "cost estimate iter: 0\n",
      "cost estimate iter: 0\n",
      "cost estimate iter: 0\n"
     ]
    }
   ],
   "source": [
    "action_selection.generate_sql(workload_csv)"
   ]
  },
  {
   "cell_type": "code",
   "execution_count": 26,
   "metadata": {},
   "outputs": [
    {
     "data": {
      "text/plain": [
       "[('jungle',\n",
       "  'idx_jungle_intfield3_floatfield7',\n",
       "  'CREATE INDEX idx_jungle_intfield3_floatfield7 ON public.jungle USING btree (int_field3, float_field7)',\n",
       "  ['int_field3', 'float_field7']),\n",
       " ('jungle',\n",
       "  'idx_jungle_intfield7',\n",
       "  'CREATE INDEX idx_jungle_intfield7 ON public.jungle USING btree (int_field7)',\n",
       "  ['int_field7']),\n",
       " ('jungle',\n",
       "  'idx_jungle_uuidfield',\n",
       "  'CREATE INDEX idx_jungle_uuidfield ON public.jungle USING btree (uuid_field)',\n",
       "  ['uuid_field'])]"
      ]
     },
     "execution_count": 26,
     "metadata": {},
     "output_type": "execute_result"
    }
   ],
   "source": [
    "db_connector.get_existing_indexes()"
   ]
  },
  {
   "cell_type": "code",
   "execution_count": 10,
   "metadata": {},
   "outputs": [],
   "source": [
    "gen = index_actions.ExhaustiveIndexGenerator(colrefs,2)"
   ]
  },
  {
   "cell_type": "code",
   "execution_count": 11,
   "metadata": {},
   "outputs": [
    {
     "data": {
      "text/plain": [
       "['CREATE INDEX IF NOT EXISTS idx_jungle_intfield3 ON jungle (int_field3);',\n",
       " 'CREATE INDEX IF NOT EXISTS idx_jungle_intfield7 ON jungle (int_field7);',\n",
       " 'CREATE INDEX IF NOT EXISTS idx_jungle_uuidfield ON jungle (uuid_field);',\n",
       " 'CREATE INDEX IF NOT EXISTS idx_jungle_floatfield1 ON jungle (float_field1);',\n",
       " 'CREATE INDEX IF NOT EXISTS idx_jungle_floatfield4 ON jungle (float_field4);',\n",
       " 'CREATE INDEX IF NOT EXISTS idx_jungle_floatfield3 ON jungle (float_field3);',\n",
       " 'CREATE INDEX IF NOT EXISTS idx_jungle_floatfield8 ON jungle (float_field8);',\n",
       " 'CREATE INDEX IF NOT EXISTS idx_jungle_floatfield0 ON jungle (float_field0);',\n",
       " 'CREATE INDEX IF NOT EXISTS idx_jungle_floatfield2 ON jungle (float_field2);',\n",
       " 'CREATE INDEX IF NOT EXISTS idx_jungle_floatfield9 ON jungle (float_field9);',\n",
       " 'CREATE INDEX IF NOT EXISTS idx_jungle_floatfield5 ON jungle (float_field5);',\n",
       " 'CREATE INDEX IF NOT EXISTS idx_jungle_floatfield6 ON jungle (float_field6);',\n",
       " 'CREATE INDEX IF NOT EXISTS idx_jungle_floatfield7 ON jungle (float_field7);',\n",
       " 'CREATE INDEX IF NOT EXISTS idx_jungle_intfield3_floatfield1 ON jungle (int_field3, float_field1);',\n",
       " 'CREATE INDEX IF NOT EXISTS idx_jungle_floatfield1_intfield3 ON jungle (float_field1, int_field3);',\n",
       " 'CREATE INDEX IF NOT EXISTS idx_jungle_floatfield4_intfield3 ON jungle (float_field4, int_field3);',\n",
       " 'CREATE INDEX IF NOT EXISTS idx_jungle_intfield3_floatfield4 ON jungle (int_field3, float_field4);',\n",
       " 'CREATE INDEX IF NOT EXISTS idx_jungle_floatfield3_intfield3 ON jungle (float_field3, int_field3);',\n",
       " 'CREATE INDEX IF NOT EXISTS idx_jungle_intfield3_floatfield3 ON jungle (int_field3, float_field3);',\n",
       " 'CREATE INDEX IF NOT EXISTS idx_jungle_floatfield8_intfield3 ON jungle (float_field8, int_field3);',\n",
       " 'CREATE INDEX IF NOT EXISTS idx_jungle_intfield3_floatfield8 ON jungle (int_field3, float_field8);',\n",
       " 'CREATE INDEX IF NOT EXISTS idx_jungle_intfield3_floatfield0 ON jungle (int_field3, float_field0);',\n",
       " 'CREATE INDEX IF NOT EXISTS idx_jungle_floatfield0_intfield3 ON jungle (float_field0, int_field3);',\n",
       " 'CREATE INDEX IF NOT EXISTS idx_jungle_intfield3_floatfield2 ON jungle (int_field3, float_field2);',\n",
       " 'CREATE INDEX IF NOT EXISTS idx_jungle_floatfield2_intfield3 ON jungle (float_field2, int_field3);',\n",
       " 'CREATE INDEX IF NOT EXISTS idx_jungle_floatfield9_intfield3 ON jungle (float_field9, int_field3);',\n",
       " 'CREATE INDEX IF NOT EXISTS idx_jungle_intfield3_floatfield9 ON jungle (int_field3, float_field9);',\n",
       " 'CREATE INDEX IF NOT EXISTS idx_jungle_floatfield5_intfield3 ON jungle (float_field5, int_field3);',\n",
       " 'CREATE INDEX IF NOT EXISTS idx_jungle_intfield3_floatfield5 ON jungle (int_field3, float_field5);',\n",
       " 'CREATE INDEX IF NOT EXISTS idx_jungle_floatfield6_intfield3 ON jungle (float_field6, int_field3);',\n",
       " 'CREATE INDEX IF NOT EXISTS idx_jungle_intfield3_floatfield6 ON jungle (int_field3, float_field6);',\n",
       " 'CREATE INDEX IF NOT EXISTS idx_jungle_intfield3_floatfield7 ON jungle (int_field3, float_field7);',\n",
       " 'CREATE INDEX IF NOT EXISTS idx_jungle_floatfield7_intfield3 ON jungle (float_field7, int_field3);']"
      ]
     },
     "execution_count": 11,
     "metadata": {},
     "output_type": "execute_result"
    }
   ],
   "source": [
    "[str(a) for a in gen]"
   ]
  },
  {
   "cell_type": "code",
   "execution_count": 3,
   "metadata": {},
   "outputs": [
    {
     "name": "stdout",
     "output_type": "stream",
     "text": [
      "Estimating pre-hypothetical costs\n",
      "cost estimate iter: 0\n",
      "cost estimate iter: 1\n",
      "cost estimate iter: 2\n",
      "Creating hypoindex CREATE INDEX IF NOT EXISTS idx_trust_sourceuid ON trust (source_u_id);\n",
      "Creating hypoindex CREATE INDEX IF NOT EXISTS idx_trust_targetuid ON trust (target_u_id);\n",
      "Creating hypoindex CREATE INDEX IF NOT EXISTS idx_trust_sourceuid_targetuid ON trust (source_u_id, target_u_id);\n",
      "Creating hypoindex CREATE INDEX IF NOT EXISTS idx_trust_targetuid_sourceuid ON trust (target_u_id, source_u_id);\n",
      "Creating hypoindex CREATE INDEX IF NOT EXISTS idx_review_iid ON review (i_id);\n",
      "Creating hypoindex CREATE INDEX IF NOT EXISTS idx_review_uid ON review (u_id);\n",
      "Creating hypoindex CREATE INDEX IF NOT EXISTS idx_review_iid_uid ON review (i_id, u_id);\n",
      "Creating hypoindex CREATE INDEX IF NOT EXISTS idx_review_uid_iid ON review (u_id, i_id);\n",
      "Creating hypoindex CREATE INDEX IF NOT EXISTS idx_item_iid ON item (i_id);\n",
      "Creating hypoindex CREATE INDEX IF NOT EXISTS idx_useracct_uid ON useracct (u_id);\n",
      "Estimating workload cost with hypothetical indexes\n",
      "cost estimate iter: 0\n",
      "cost estimate iter: 1\n",
      "cost estimate iter: 2\n",
      "                                                             sample    cumsum  \\\n",
      "fingerprint                                                                     \n",
      "c816dccd9becfc4d  SELECT * FROM review r, item i WHERE i.i_id = ...  0.367197   \n",
      "6b598eceae27ac83  UPDATE trust SET trust = 1 WHERE source_u_id=5...  0.177932   \n",
      "0f7fb1cad93ae812  SELECT avg(rating) FROM review r WHERE r.i_id=311  0.552926   \n",
      "f65ba4607e610457  SELECT * FROM review r WHERE r.i_id=951 ORDER ...  0.733442   \n",
      "9aba7eb244fc2e96  SELECT avg(rating) FROM review r, trust t WHER...  0.998685   \n",
      "23435c8c3b421859     SELECT * FROM trust t WHERE t.source_u_id=1984  0.823065   \n",
      "a7ad2478e41134f9  UPDATE useracct SET name = '0S.XlJg;$2C$mb,qSZ...  0.643819   \n",
      "b0f66e39c2a6534b  UPDATE item SET title = 'e^#3SJMqt]8![\"`9!/^G-...  0.911510   \n",
      "1c792d821ca27f42  SELECT * FROM review r, useracct u WHERE u.u_i...  0.460402   \n",
      "d388898e74af6cf0  UPDATE review SET rating = 274 WHERE i_id=195 ...  0.272995   \n",
      "\n",
      "                                                       indexes_used  \\\n",
      "fingerprint                                                           \n",
      "c816dccd9becfc4d  [<13717>btree_item_i_id, <13715>btree_review_i...   \n",
      "6b598eceae27ac83       [<13712>btree_trust_target_u_id_source_u_id]   \n",
      "0f7fb1cad93ae812                    [<13715>btree_review_i_id_u_id]   \n",
      "f65ba4607e610457                    [<13715>btree_review_i_id_u_id]   \n",
      "9aba7eb244fc2e96  [<13715>btree_review_i_id_u_id, <13711>btree_t...   \n",
      "23435c8c3b421859       [<13711>btree_trust_source_u_id_target_u_id]   \n",
      "a7ad2478e41134f9                       [<13718>btree_useracct_u_id]   \n",
      "b0f66e39c2a6534b                           [<13717>btree_item_i_id]   \n",
      "1c792d821ca27f42  [<13718>btree_useracct_u_id, <13716>btree_revi...   \n",
      "d388898e74af6cf0                    [<13716>btree_review_u_id_i_id]   \n",
      "\n",
      "                   cost_diff  \n",
      "fingerprint                   \n",
      "c816dccd9becfc4d -135.690000  \n",
      "6b598eceae27ac83  -71.430000  \n",
      "0f7fb1cad93ae812 -109.593333  \n",
      "f65ba4607e610457 -106.410000  \n",
      "9aba7eb244fc2e96  -71.620000  \n",
      "23435c8c3b421859  -59.900000  \n",
      "a7ad2478e41134f9  -39.960000  \n",
      "b0f66e39c2a6534b  -36.460000  \n",
      "1c792d821ca27f42  -33.493333  \n",
      "d388898e74af6cf0   -0.250000  \n"
     ]
    }
   ],
   "source": [
    "\n",
    "    # Resulting hypopg indexes and corresponding CREATE INDEX action\n",
    "    hypoconn = db_connector.get_conn()\n",
    "    print(\"Estimating pre-hypothetical costs\")\n",
    "    before = action_selection.estimate_cost(parsed, hypoconn, iterations = 3)\n",
    "    hypo_results = []\n",
    "\n",
    "    # Install hypothetical indexes\n",
    "    exhaustive = index_actions.ExhaustiveIndexGenerator(colrefs, 2)\n",
    "    actions = list(exhaustive)\n",
    "    for action in actions:\n",
    "        sql_str = str(action)\n",
    "        print(f\"Creating hypoindex {sql_str}\")\n",
    "        hypo_sql = f\"SELECT * FROM hypopg_create_index('{sql_str}') ;\"\n",
    "        hypo_results.append((action, hypoconn.execute(hypo_sql).fetchall()))\n",
    "\n",
    "    print(\"Estimating workload cost with hypothetical indexes\")\n",
    "    hypo_ests = action_selection.estimate_cost(parsed, hypoconn, iterations = 3)\n",
    "\n",
    "    hypo_ests['cost_diff'] = hypo_ests['cost'] - before['cost']\n",
    "    hypo_results, hypo_ests"
   ]
  },
  {
   "cell_type": "code",
   "execution_count": null,
   "metadata": {},
   "outputs": [],
   "source": []
  }
 ],
 "metadata": {
  "kernelspec": {
   "display_name": "Python 3 (ipykernel)",
   "language": "python",
   "name": "python3"
  },
  "language_info": {
   "codemirror_mode": {
    "name": "ipython",
    "version": 3
   },
   "file_extension": ".py",
   "mimetype": "text/x-python",
   "name": "python",
   "nbconvert_exporter": "python",
   "pygments_lexer": "ipython3",
   "version": "3.8.10"
  }
 },
 "nbformat": 4,
 "nbformat_minor": 4
}
